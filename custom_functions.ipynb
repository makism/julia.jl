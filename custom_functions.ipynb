{
 "cells": [
  {
   "cell_type": "code",
   "execution_count": 1,
   "id": "a98543ef-d3c3-4af3-8edc-128274fb45f0",
   "metadata": {},
   "outputs": [
    {
     "data": {
      "text/plain": [
       "\"Julia\""
      ]
     },
     "execution_count": 1,
     "metadata": {},
     "output_type": "execute_result"
    }
   ],
   "source": [
    "name = \"Julia\""
   ]
  },
  {
   "cell_type": "markdown",
   "id": "4dd50583-cb3c-4e4b-ad02-3a6d7a88da8b",
   "metadata": {},
   "source": [
    "# Functions "
   ]
  },
  {
   "cell_type": "code",
   "execution_count": 2,
   "id": "cbd8ddbf-be3a-44ad-9640-340e52fdc1b1",
   "metadata": {},
   "outputs": [
    {
     "data": {
      "text/plain": [
       "greet (generic function with 1 method)"
      ]
     },
     "execution_count": 2,
     "metadata": {},
     "output_type": "execute_result"
    }
   ],
   "source": [
    "function greet(name)\n",
    "    println(\"Hey $name\")\n",
    "end"
   ]
  },
  {
   "cell_type": "code",
   "execution_count": 3,
   "id": "62e83fc9-33d5-4883-bf97-7bfa206e48b2",
   "metadata": {},
   "outputs": [
    {
     "data": {
      "text/plain": [
       "eveningGreet (generic function with 1 method)"
      ]
     },
     "execution_count": 3,
     "metadata": {},
     "output_type": "execute_result"
    }
   ],
   "source": [
    "eveningGreet(name) = println(\"Nice evening $name\")"
   ]
  },
  {
   "cell_type": "code",
   "execution_count": 4,
   "id": "712285f0-f85c-4576-8145-f744319bdb5e",
   "metadata": {},
   "outputs": [
    {
     "data": {
      "text/plain": [
       "#1 (generic function with 1 method)"
      ]
     },
     "execution_count": 4,
     "metadata": {},
     "output_type": "execute_result"
    }
   ],
   "source": [
    "goodnightGreet = name -> println(\"Good night $name\")"
   ]
  },
  {
   "cell_type": "markdown",
   "id": "6bebe41f-2ac1-4e30-858c-e4879b4f5125",
   "metadata": {},
   "source": [
    "# Invoke"
   ]
  },
  {
   "cell_type": "code",
   "execution_count": 5,
   "id": "28f91e1a-2946-4a56-801e-626dd37a4bba",
   "metadata": {},
   "outputs": [
    {
     "name": "stdout",
     "output_type": "stream",
     "text": [
      "Hey Julia\n"
     ]
    }
   ],
   "source": [
    "greet(name)"
   ]
  },
  {
   "cell_type": "code",
   "execution_count": 6,
   "id": "82246a30-a916-4853-b072-e9de16041c97",
   "metadata": {},
   "outputs": [
    {
     "name": "stdout",
     "output_type": "stream",
     "text": [
      "Nice evening Julia\n"
     ]
    }
   ],
   "source": [
    "eveningGreet(name)"
   ]
  },
  {
   "cell_type": "code",
   "execution_count": 7,
   "id": "7aff83b8-98da-456e-b731-5fe1e8618039",
   "metadata": {},
   "outputs": [
    {
     "name": "stdout",
     "output_type": "stream",
     "text": [
      "Good night Julia\n"
     ]
    }
   ],
   "source": [
    "goodnightGreet(\"Julia\")"
   ]
  }
 ],
 "metadata": {
  "kernelspec": {
   "display_name": "Julia 1.6.3",
   "language": "julia",
   "name": "julia-1.6"
  },
  "language_info": {
   "file_extension": ".jl",
   "mimetype": "application/julia",
   "name": "julia",
   "version": "1.6.5"
  }
 },
 "nbformat": 4,
 "nbformat_minor": 5
}
