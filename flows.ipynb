{
 "cells": [
  {
   "cell_type": "code",
   "execution_count": 1,
   "id": "42c1cb4c-71b2-4c58-80ca-4f45b963e598",
   "metadata": {},
   "outputs": [
    {
     "data": {
      "text/plain": [
       "1"
      ]
     },
     "execution_count": 1,
     "metadata": {},
     "output_type": "execute_result"
    }
   ],
   "source": [
    "A = zeros(3, 3)\n",
    "counter = 0\n",
    "i = 1\n",
    "j = 1"
   ]
  },
  {
   "cell_type": "code",
   "execution_count": 2,
   "id": "dd3c0c7e-8038-4e9f-ad8f-ebf1f8138cbd",
   "metadata": {},
   "outputs": [],
   "source": [
    "for i in 1:3, j in 1:3\n",
    "    counter += 1\n",
    "    A[i, j] = counter\n",
    "end"
   ]
  },
  {
   "cell_type": "code",
   "execution_count": 3,
   "id": "a774e9e1-d378-4939-be3b-a6c0cdbaf2ab",
   "metadata": {},
   "outputs": [
    {
     "data": {
      "text/plain": [
       "3×3 Matrix{Float64}:\n",
       " 1.0  2.0  3.0\n",
       " 4.0  5.0  6.0\n",
       " 7.0  8.0  9.0"
      ]
     },
     "execution_count": 3,
     "metadata": {},
     "output_type": "execute_result"
    }
   ],
   "source": [
    "A"
   ]
  },
  {
   "cell_type": "code",
   "execution_count": 4,
   "id": "0556a240-c289-4db3-a710-a1db14388566",
   "metadata": {},
   "outputs": [],
   "source": [
    "x = 5;\n",
    "y = 2;"
   ]
  },
  {
   "cell_type": "code",
   "execution_count": 5,
   "id": "52c6bf6f-bff3-4676-b359-116aeb6fada1",
   "metadata": {},
   "outputs": [
    {
     "name": "stdout",
     "output_type": "stream",
     "text": [
      "x > y\n"
     ]
    }
   ],
   "source": [
    "if x > y\n",
    "    println(\"x > y\")\n",
    "else\n",
    "    println(\"x <= y\")\n",
    "end"
   ]
  },
  {
   "cell_type": "code",
   "execution_count": 6,
   "id": "834d5e1e-0a12-498f-9a99-e1c98e092163",
   "metadata": {},
   "outputs": [
    {
     "data": {
      "text/plain": [
       "\"x > y\""
      ]
     },
     "execution_count": 6,
     "metadata": {},
     "output_type": "execute_result"
    }
   ],
   "source": [
    "(x > y) ? \"x > y\" : \"x <= y\""
   ]
  },
  {
   "cell_type": "code",
   "execution_count": 7,
   "id": "15b7da2b-eca0-448e-a37c-5e21255b06bd",
   "metadata": {},
   "outputs": [
    {
     "name": "stdout",
     "output_type": "stream",
     "text": [
      "5 > 2\n"
     ]
    }
   ],
   "source": [
    "(x > y) && println(\"$x > $y\")"
   ]
  },
  {
   "cell_type": "code",
   "execution_count": 8,
   "id": "4c2dd805-e4f7-4c75-97c8-728566c1aaa4",
   "metadata": {},
   "outputs": [
    {
     "data": {
      "text/plain": [
       "false"
      ]
     },
     "execution_count": 8,
     "metadata": {},
     "output_type": "execute_result"
    }
   ],
   "source": [
    "(x < y) && println(\"$x > $y\")"
   ]
  },
  {
   "cell_type": "code",
   "execution_count": null,
   "id": "f4d165e6-5529-4ccf-ae47-ea19da789bdc",
   "metadata": {},
   "outputs": [],
   "source": []
  }
 ],
 "metadata": {
  "kernelspec": {
   "display_name": "Julia 1.6.3",
   "language": "julia",
   "name": "julia-1.6"
  },
  "language_info": {
   "file_extension": ".jl",
   "mimetype": "application/julia",
   "name": "julia",
   "version": "1.6.5"
  }
 },
 "nbformat": 4,
 "nbformat_minor": 5
}
