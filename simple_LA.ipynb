{
 "cells": [
  {
   "cell_type": "code",
   "execution_count": 1,
   "id": "3bf8de5f-8643-4708-845d-72393080c91d",
   "metadata": {},
   "outputs": [],
   "source": [
    "using LinearAlgebra"
   ]
  },
  {
   "cell_type": "code",
   "execution_count": 2,
   "id": "2edeb2c3-fd7a-4f22-97d1-05f11b0d4afe",
   "metadata": {},
   "outputs": [
    {
     "data": {
      "text/plain": [
       "5×5 Matrix{Float64}:\n",
       " 0.651433  0.610919  0.490402  0.95763   0.305922\n",
       " 0.381162  0.913676  0.234221  0.72072   0.0763403\n",
       " 0.891528  0.818787  0.594367  0.738107  0.561219\n",
       " 0.968257  0.171306  0.516371  0.8402    0.224035\n",
       " 0.611635  0.309037  0.900776  0.155773  0.67765"
      ]
     },
     "execution_count": 2,
     "metadata": {},
     "output_type": "execute_result"
    }
   ],
   "source": [
    "A = rand(5, 5)"
   ]
  },
  {
   "cell_type": "code",
   "execution_count": 3,
   "id": "1256d192-ae7d-4ea5-b21a-00bf0ec576d5",
   "metadata": {},
   "outputs": [
    {
     "data": {
      "text/plain": [
       "5-element Vector{Float64}:\n",
       " 1.0\n",
       " 1.0\n",
       " 1.0\n",
       " 1.0\n",
       " 1.0"
      ]
     },
     "execution_count": 3,
     "metadata": {},
     "output_type": "execute_result"
    }
   ],
   "source": [
    "x  = fill(1.0, (5, ))"
   ]
  },
  {
   "cell_type": "code",
   "execution_count": 4,
   "id": "385838b1-aa64-4067-ae21-880e7f41e8dc",
   "metadata": {},
   "outputs": [
    {
     "data": {
      "text/plain": [
       "5-element Vector{Float64}:\n",
       " 3.0163055664375964\n",
       " 2.326120805776929\n",
       " 3.6040077233519647\n",
       " 2.720170423708595\n",
       " 2.654870694735603"
      ]
     },
     "execution_count": 4,
     "metadata": {},
     "output_type": "execute_result"
    }
   ],
   "source": [
    "b = A * x"
   ]
  },
  {
   "cell_type": "code",
   "execution_count": 5,
   "id": "f8eb4529-7c70-4a73-b230-ce74ed704fe8",
   "metadata": {},
   "outputs": [
    {
     "data": {
      "text/plain": [
       "5×5 Matrix{Float64}:\n",
       " 1.30287   0.992081  1.38193  1.92589   0.917557\n",
       " 0.992081  1.82735   1.05301  0.892027  0.385377\n",
       " 1.38193   1.05301   1.18873  1.25448   1.46199\n",
       " 1.92589   0.892027  1.25448  1.6804    0.379809\n",
       " 0.917557  0.385377  1.46199  0.379809  1.3553"
      ]
     },
     "execution_count": 5,
     "metadata": {},
     "output_type": "execute_result"
    }
   ],
   "source": [
    "Asym = A + A'"
   ]
  },
  {
   "cell_type": "code",
   "execution_count": 6,
   "id": "2de9e4f1-5a52-4b3e-8150-aacac72a80e8",
   "metadata": {},
   "outputs": [
    {
     "data": {
      "text/plain": [
       "Eigen{Float64, Float64, Matrix{Float64}, Vector{Float64}}\n",
       "values:\n",
       "5-element Vector{Float64}:\n",
       " -0.594161990639404\n",
       " -0.3868657561013443\n",
       "  1.0792915931195255\n",
       "  1.412125439745147\n",
       "  5.84426262493065\n",
       "vectors:\n",
       "5×5 Matrix{Float64}:\n",
       " -0.592021  -0.540659   0.293874    0.108161  -0.509056\n",
       "  0.117618  -0.117078  -0.80862     0.404944  -0.39321\n",
       " -0.356964   0.738531  -0.0779456  -0.303236  -0.478666\n",
       "  0.583656   0.169627   0.491282    0.380366  -0.494506\n",
       "  0.409389  -0.346092  -0.111082   -0.766611  -0.335545"
      ]
     },
     "execution_count": 6,
     "metadata": {},
     "output_type": "execute_result"
    }
   ],
   "source": [
    "AsymEig = eigen(Asym)"
   ]
  },
  {
   "cell_type": "code",
   "execution_count": 7,
   "id": "d04145fd-f84c-4e3a-a1a0-8ca6b4f1f68f",
   "metadata": {},
   "outputs": [
    {
     "data": {
      "text/plain": [
       "true"
      ]
     },
     "execution_count": 7,
     "metadata": {},
     "output_type": "execute_result"
    }
   ],
   "source": [
    "issymmetric(Asym)"
   ]
  },
  {
   "cell_type": "code",
   "execution_count": 8,
   "id": "8e88bde8-4390-4808-b194-65471761f308",
   "metadata": {},
   "outputs": [],
   "source": [
    "n = 1_000_000;\n",
    "A = SymTridiagonal(randn(n), randn(n-1));"
   ]
  },
  {
   "cell_type": "code",
   "execution_count": 9,
   "id": "de8dc8d4-6e74-446a-af5a-cd9ac04177c5",
   "metadata": {},
   "outputs": [
    {
     "data": {
      "text/plain": [
       "1000000×1000000 SymTridiagonal{Float64, Vector{Float64}}:\n",
       " -0.727668  -0.756218    ⋅        …    ⋅          ⋅          ⋅ \n",
       " -0.756218   0.254555   0.292336       ⋅          ⋅          ⋅ \n",
       "   ⋅         0.292336  -2.42433        ⋅          ⋅          ⋅ \n",
       "   ⋅          ⋅         0.366854       ⋅          ⋅          ⋅ \n",
       "   ⋅          ⋅          ⋅             ⋅          ⋅          ⋅ \n",
       "   ⋅          ⋅          ⋅        …    ⋅          ⋅          ⋅ \n",
       "   ⋅          ⋅          ⋅             ⋅          ⋅          ⋅ \n",
       "   ⋅          ⋅          ⋅             ⋅          ⋅          ⋅ \n",
       "   ⋅          ⋅          ⋅             ⋅          ⋅          ⋅ \n",
       "   ⋅          ⋅          ⋅             ⋅          ⋅          ⋅ \n",
       "   ⋅          ⋅          ⋅        …    ⋅          ⋅          ⋅ \n",
       "   ⋅          ⋅          ⋅             ⋅          ⋅          ⋅ \n",
       "   ⋅          ⋅          ⋅             ⋅          ⋅          ⋅ \n",
       "  ⋮                               ⋱                         \n",
       "   ⋅          ⋅          ⋅             ⋅          ⋅          ⋅ \n",
       "   ⋅          ⋅          ⋅             ⋅          ⋅          ⋅ \n",
       "   ⋅          ⋅          ⋅        …    ⋅          ⋅          ⋅ \n",
       "   ⋅          ⋅          ⋅             ⋅          ⋅          ⋅ \n",
       "   ⋅          ⋅          ⋅             ⋅          ⋅          ⋅ \n",
       "   ⋅          ⋅          ⋅             ⋅          ⋅          ⋅ \n",
       "   ⋅          ⋅          ⋅             ⋅          ⋅          ⋅ \n",
       "   ⋅          ⋅          ⋅        …    ⋅          ⋅          ⋅ \n",
       "   ⋅          ⋅          ⋅           -0.323045    ⋅          ⋅ \n",
       "   ⋅          ⋅          ⋅           -0.65541    0.817221    ⋅ \n",
       "   ⋅          ⋅          ⋅            0.817221  -0.268649   0.0945487\n",
       "   ⋅          ⋅          ⋅             ⋅         0.0945487  0.416094"
      ]
     },
     "execution_count": 9,
     "metadata": {},
     "output_type": "execute_result"
    }
   ],
   "source": [
    "A"
   ]
  },
  {
   "cell_type": "code",
   "execution_count": 10,
   "id": "b2505728-ef03-4643-9da4-7ca25a0d3e3f",
   "metadata": {},
   "outputs": [
    {
     "name": "stdout",
     "output_type": "stream",
     "text": [
      "  1.260211 seconds (849.19 k allocations: 230.737 MiB, 11.11% gc time, 29.82% compilation time)\n"
     ]
    },
    {
     "data": {
      "text/plain": [
       "6.402848386358842"
      ]
     },
     "execution_count": 10,
     "metadata": {},
     "output_type": "execute_result"
    }
   ],
   "source": [
    "@time eigmax(A)"
   ]
  },
  {
   "cell_type": "code",
   "execution_count": 11,
   "id": "1e62ce8b-7aca-4a3e-aeb6-417cac2b914a",
   "metadata": {},
   "outputs": [
    {
     "data": {
      "text/plain": [
       "3×3 Matrix{Rational{BigInt}}:\n",
       " 9//10  1//1   9//10\n",
       " 1//2   4//5   1//2\n",
       " 1//5   7//10  3//5"
      ]
     },
     "execution_count": 11,
     "metadata": {},
     "output_type": "execute_result"
    }
   ],
   "source": [
    "Arational = Matrix{Rational{BigInt}}(rand(1:10, 3, 3))/10\n"
   ]
  },
  {
   "cell_type": "code",
   "execution_count": 12,
   "id": "a5bc9727-1dd9-4d42-af4f-e8d61def0865",
   "metadata": {},
   "outputs": [
    {
     "data": {
      "text/plain": [
       "3-element Vector{Rational{BigInt}}:\n",
       " 14//5\n",
       "  9//5\n",
       "  3//2"
      ]
     },
     "execution_count": 12,
     "metadata": {},
     "output_type": "execute_result"
    }
   ],
   "source": [
    "x = fill(1, 3)\n",
    "b = Arational*x"
   ]
  },
  {
   "cell_type": "code",
   "execution_count": null,
   "id": "5983c5f0-b823-4847-9fdc-9bacccf82ed7",
   "metadata": {},
   "outputs": [],
   "source": []
  }
 ],
 "metadata": {
  "kernelspec": {
   "display_name": "Julia 1.6.3",
   "language": "julia",
   "name": "julia-1.6"
  },
  "language_info": {
   "file_extension": ".jl",
   "mimetype": "application/julia",
   "name": "julia",
   "version": "1.6.5"
  }
 },
 "nbformat": 4,
 "nbformat_minor": 5
}
